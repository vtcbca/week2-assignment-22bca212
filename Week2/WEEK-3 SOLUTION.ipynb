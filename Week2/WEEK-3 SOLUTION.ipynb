{
 "cells": [
  {
   "cell_type": "code",
   "execution_count": 1,
   "id": "85f410da",
   "metadata": {},
   "outputs": [],
   "source": [
    "import sqlite3 as sq"
   ]
  },
  {
   "cell_type": "code",
   "execution_count": 2,
   "id": "9e4d900d",
   "metadata": {},
   "outputs": [],
   "source": [
    "con = sq.connect('EMS1.db')"
   ]
  },
  {
   "cell_type": "code",
   "execution_count": 3,
   "id": "d01fa8d6",
   "metadata": {},
   "outputs": [],
   "source": [
    "cur = con.cursor()"
   ]
  },
  {
   "cell_type": "code",
   "execution_count": 4,
   "id": "093bf5c0",
   "metadata": {},
   "outputs": [],
   "source": [
    "query='''create table if not exists employee \n",
    "        (eid int primary key,\n",
    "         ename text,\n",
    "         dept text,\n",
    "         basic int,\n",
    "         branch text)'''\n",
    "cur.execute(query)\n",
    "con.commit()"
   ]
  },
  {
   "cell_type": "code",
   "execution_count": 5,
   "id": "8753880b",
   "metadata": {},
   "outputs": [],
   "source": [
    "def insertemp(n):\n",
    "    l=[]\n",
    "    query=f\"insert into Employee values(?,?,?,?,?)\"\n",
    "       \n",
    "    for i in range(n):\n",
    "        eid=int(input(\"Enter Employee id:\"))\n",
    "        ename=input(\"Enter Employee name \")\n",
    "        dept=input(\"Enter Employee department:\")\n",
    "        basic=int(input(\"Enter Employee basic salary:\"))\n",
    "        branch=input(\"Enter Employee branch:\")\n",
    "        t=(eid,ename,dept,basic,branch)\n",
    "        l.append(t)\n",
    "    cur.executemany(query,l)\n",
    "    con.commit()"
   ]
  },
  {
   "cell_type": "code",
   "execution_count": 7,
   "id": "7751a61a",
   "metadata": {},
   "outputs": [],
   "source": [
    "def updatesal():\n",
    "    query=f\"update Employee set basic=basic+basic*0.1 where branch='surat'\"\n",
    "    cur.execute(query)\n",
    "    con.commit()"
   ]
  },
  {
   "cell_type": "code",
   "execution_count": 8,
   "id": "68b95658",
   "metadata": {},
   "outputs": [],
   "source": [
    "def displayrecord():\n",
    "    query=f\"select * from Employee\"\n",
    "    cur.execute(query)\n",
    "    data=cur.fetchall()\n",
    "    for i in data:\n",
    "        print(\"Employee id:{}\\nEmployee name:{}\\nEmployee department:{}\\nEmployee Basic:{}\\nEmployee branch:{}\".format(i[0],i[1],i[2],i[3],i[4])) "
   ]
  },
  {
   "cell_type": "code",
   "execution_count": 9,
   "id": "a07adfcf",
   "metadata": {},
   "outputs": [],
   "source": [
    "def deptrecord():\n",
    "    query=f\"select * from Employee where dept in ('hr','it','HR','IT')\"\n",
    "    cur.execute(query)\n",
    "    data=cur.fetchall()\n",
    "    for i in data:\n",
    "        print(\"Employee id:{}\\nEmployee name:{}\\nEmployee department:{}\\nEmployee Basic:{}\\nEmployee branch:{}\".format(i[0],i[1],i[2],i[3],i[4])) "
   ]
  },
  {
   "cell_type": "code",
   "execution_count": 10,
   "id": "6e09da63",
   "metadata": {},
   "outputs": [],
   "source": [
    "def recordbasicgreaterthan():\n",
    "    query=f\"select * from Employee where basic>6000\"\n",
    "    cur.execute(query)\n",
    "    data=cur.fetchall()\n",
    "    for i in data:\n",
    "        print(\"Employee id:{}\\nEmployee name:{}\\nEmployee department:{}\\nEmployee Basic:{}\\nEmployee branch:{}\".format(i[0],i[1],i[2],i[3],i[4])) \n"
   ]
  },
  {
   "cell_type": "code",
   "execution_count": 11,
   "id": "482bf97e",
   "metadata": {},
   "outputs": [],
   "source": [
    "def sortrecorddept():\n",
    "    query=f\"select * from Employee where ename like '_r%'\"\n",
    "    cur.execute(query)\n",
    "    data=cur.fetchall()\n",
    "    for i in data:\n",
    "        print(\"Employee id:{}\\nEmployee name:{}\\nEmployee department:{}\\nEmployee Basic:{}\\nEmployee branch:{}\".format(i[0],i[1],i[2],i[3],i[4])) "
   ]
  },
  {
   "cell_type": "code",
   "execution_count": 12,
   "id": "12770bce",
   "metadata": {},
   "outputs": [],
   "source": [
    "def groupingrecord():\n",
    "    query=f\"select dept,count(*) as count  from Employee where dept in ('account','inventory')\"\n",
    "    cur.execute(query)\n",
    "    data=cur.fetchall()\n",
    "    for i in data:\n",
    "        print(\"\\nEmployee department:{}\\ncount :{}\".format(i[0],i[1]))"
   ]
  },
  {
   "cell_type": "code",
   "execution_count": 14,
   "id": "59c3f14f",
   "metadata": {},
   "outputs": [],
   "source": [
    "def orderbydesc():\n",
    "    query=f\"select * from Employee order by branch desc\"\n",
    "    cur.execute(query)\n",
    "    data=cur.fetchall()\n",
    "    for i in data:\n",
    "        print(\"Employee id:{}\\nEmployee name:{}\\nEmployee department:{}\\nEmployee Basic:{}\\nEmployee branch:{}\".format(i[0],i[1],i[2],i[3],i[4])) \n"
   ]
  },
  {
   "cell_type": "code",
   "execution_count": 15,
   "id": "abe2bf03",
   "metadata": {},
   "outputs": [
    {
     "name": "stdout",
     "output_type": "stream",
     "text": [
      "Enter Employee id:1\n",
      "Enter Employee name om\n",
      "Enter Employee department:hr\n",
      "Enter Employee basic salary:10000\n",
      "Enter Employee branch:surat\n",
      "Enter Employee id:2\n",
      "Enter Employee name sai\n",
      "Enter Employee department:account\n",
      "Enter Employee basic salary:12000\n",
      "Enter Employee branch:bardoli\n",
      "Enter Employee id:3\n",
      "Enter Employee name ram\n",
      "Enter Employee department:it\n",
      "Enter Employee basic salary:5000\n",
      "Enter Employee branch:mahuva\n",
      "Enter Employee id:4\n",
      "Enter Employee name parth\n",
      "Enter Employee department:inventory\n",
      "Enter Employee basic salary:20000\n",
      "Enter Employee branch:ahawa\n",
      "Enter Employee id:5\n",
      "Enter Employee name dev\n",
      "Enter Employee department:hr\n",
      "Enter Employee basic salary:12000\n",
      "Enter Employee branch:bardoli\n"
     ]
    }
   ],
   "source": [
    "insertemp(5)"
   ]
  },
  {
   "cell_type": "code",
   "execution_count": 16,
   "id": "385078e7",
   "metadata": {},
   "outputs": [],
   "source": [
    "updatesal()"
   ]
  },
  {
   "cell_type": "code",
   "execution_count": 17,
   "id": "748d8a32",
   "metadata": {},
   "outputs": [
    {
     "name": "stdout",
     "output_type": "stream",
     "text": [
      "Employee id:1\n",
      "Employee name:om\n",
      "Employee department:hr\n",
      "Employee Basic:11000\n",
      "Employee branch:surat\n",
      "Employee id:2\n",
      "Employee name:sai\n",
      "Employee department:account\n",
      "Employee Basic:12000\n",
      "Employee branch:bardoli\n",
      "Employee id:3\n",
      "Employee name:ram\n",
      "Employee department:it\n",
      "Employee Basic:5000\n",
      "Employee branch:mahuva\n",
      "Employee id:4\n",
      "Employee name:parth\n",
      "Employee department:inventory\n",
      "Employee Basic:20000\n",
      "Employee branch:ahawa\n",
      "Employee id:5\n",
      "Employee name:dev\n",
      "Employee department:hr\n",
      "Employee Basic:12000\n",
      "Employee branch:bardoli\n"
     ]
    }
   ],
   "source": [
    "displayrecord()"
   ]
  },
  {
   "cell_type": "code",
   "execution_count": 18,
   "id": "47ec447d",
   "metadata": {},
   "outputs": [],
   "source": [
    "sortrecorddept()"
   ]
  },
  {
   "cell_type": "code",
   "execution_count": 19,
   "id": "ccc99e0b",
   "metadata": {},
   "outputs": [
    {
     "name": "stdout",
     "output_type": "stream",
     "text": [
      "Employee id:1\n",
      "Employee name:om\n",
      "Employee department:hr\n",
      "Employee Basic:11000\n",
      "Employee branch:surat\n",
      "Employee id:2\n",
      "Employee name:sai\n",
      "Employee department:account\n",
      "Employee Basic:12000\n",
      "Employee branch:bardoli\n",
      "Employee id:4\n",
      "Employee name:parth\n",
      "Employee department:inventory\n",
      "Employee Basic:20000\n",
      "Employee branch:ahawa\n",
      "Employee id:5\n",
      "Employee name:dev\n",
      "Employee department:hr\n",
      "Employee Basic:12000\n",
      "Employee branch:bardoli\n"
     ]
    }
   ],
   "source": [
    "recordbasicgreaterthan()"
   ]
  },
  {
   "cell_type": "code",
   "execution_count": 20,
   "id": "93e7fd20",
   "metadata": {},
   "outputs": [],
   "source": [
    "sortrecorddept()"
   ]
  },
  {
   "cell_type": "code",
   "execution_count": 21,
   "id": "c71dd11e",
   "metadata": {},
   "outputs": [
    {
     "name": "stdout",
     "output_type": "stream",
     "text": [
      "\n",
      "Employee department:account\n",
      "count :2\n"
     ]
    }
   ],
   "source": [
    "groupingrecord()"
   ]
  },
  {
   "cell_type": "code",
   "execution_count": 22,
   "id": "36c65c08",
   "metadata": {},
   "outputs": [
    {
     "name": "stdout",
     "output_type": "stream",
     "text": [
      "Employee id:1\n",
      "Employee name:om\n",
      "Employee department:hr\n",
      "Employee Basic:11000\n",
      "Employee branch:surat\n",
      "Employee id:3\n",
      "Employee name:ram\n",
      "Employee department:it\n",
      "Employee Basic:5000\n",
      "Employee branch:mahuva\n",
      "Employee id:2\n",
      "Employee name:sai\n",
      "Employee department:account\n",
      "Employee Basic:12000\n",
      "Employee branch:bardoli\n",
      "Employee id:5\n",
      "Employee name:dev\n",
      "Employee department:hr\n",
      "Employee Basic:12000\n",
      "Employee branch:bardoli\n",
      "Employee id:4\n",
      "Employee name:parth\n",
      "Employee department:inventory\n",
      "Employee Basic:20000\n",
      "Employee branch:ahawa\n"
     ]
    }
   ],
   "source": [
    "orderbydesc()"
   ]
  },
  {
   "cell_type": "code",
   "execution_count": 23,
   "id": "10ef3e6f",
   "metadata": {},
   "outputs": [],
   "source": [
    "con.commit()"
   ]
  },
  {
   "cell_type": "code",
   "execution_count": 24,
   "id": "fe285334",
   "metadata": {},
   "outputs": [],
   "source": [
    "con.close()"
   ]
  },
  {
   "cell_type": "code",
   "execution_count": null,
   "id": "2dbad857",
   "metadata": {},
   "outputs": [],
   "source": []
  }
 ],
 "metadata": {
  "kernelspec": {
   "display_name": "Python 3 (ipykernel)",
   "language": "python",
   "name": "python3"
  },
  "language_info": {
   "codemirror_mode": {
    "name": "ipython",
    "version": 3
   },
   "file_extension": ".py",
   "mimetype": "text/x-python",
   "name": "python",
   "nbconvert_exporter": "python",
   "pygments_lexer": "ipython3",
   "version": "3.11.4"
  }
 },
 "nbformat": 4,
 "nbformat_minor": 5
}
