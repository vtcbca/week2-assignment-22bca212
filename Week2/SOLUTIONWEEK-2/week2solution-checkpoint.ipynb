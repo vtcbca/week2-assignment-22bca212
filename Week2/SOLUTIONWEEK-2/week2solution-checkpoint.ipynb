{
 "cells": [
  {
   "cell_type": "code",
   "execution_count": 1,
   "id": "bc1982eb",
   "metadata": {},
   "outputs": [],
   "source": [
    "import sqlite3 as sq"
   ]
  },
  {
   "cell_type": "code",
   "execution_count": 2,
   "id": "626a5430",
   "metadata": {},
   "outputs": [],
   "source": [
    "con=sq.connect('student.db')"
   ]
  },
  {
   "cell_type": "code",
   "execution_count": 3,
   "id": "1a15de95",
   "metadata": {},
   "outputs": [],
   "source": [
    "cur=con.cursor()"
   ]
  },
  {
   "cell_type": "code",
   "execution_count": 4,
   "id": "df982c09",
   "metadata": {},
   "outputs": [],
   "source": [
    "table1=\"Create table if not exists stud(sid int primary key,sname text NOT NULL)\""
   ]
  },
  {
   "cell_type": "code",
   "execution_count": 5,
   "id": "117aaf57",
   "metadata": {},
   "outputs": [
    {
     "data": {
      "text/plain": [
       "<sqlite3.Cursor at 0x284145514c0>"
      ]
     },
     "execution_count": 5,
     "metadata": {},
     "output_type": "execute_result"
    }
   ],
   "source": [
    "cur.execute(table1)"
   ]
  },
  {
   "cell_type": "code",
   "execution_count": 6,
   "id": "9e96db0f",
   "metadata": {},
   "outputs": [],
   "source": [
    "table2=\"Create table if not exists stud_details(sid references stud(sid),city text NOT NULL,mobno int)\""
   ]
  },
  {
   "cell_type": "code",
   "execution_count": 7,
   "id": "e9f832ac",
   "metadata": {},
   "outputs": [
    {
     "data": {
      "text/plain": [
       "<sqlite3.Cursor at 0x284145514c0>"
      ]
     },
     "execution_count": 7,
     "metadata": {},
     "output_type": "execute_result"
    }
   ],
   "source": [
    "cur.execute(table2)"
   ]
  },
  {
   "cell_type": "code",
   "execution_count": 8,
   "id": "7d9aa403",
   "metadata": {},
   "outputs": [],
   "source": [
    "con.commit()"
   ]
  },
  {
   "cell_type": "code",
   "execution_count": 9,
   "id": "5b31cd92",
   "metadata": {},
   "outputs": [],
   "source": [
    "insert1=\"insert into stud values(101,'OM'),(102,'SAI'),(103,'RAM'),(104,'RADHA'),(105,'KRISHNA'),(106,'SHIV'),(107,'PARTH'),(108,'SUNIL'),(109,'JENIL'),(110,'DEV')\""
   ]
  },
  {
   "cell_type": "code",
   "execution_count": 10,
   "id": "0333b1d6",
   "metadata": {},
   "outputs": [
    {
     "data": {
      "text/plain": [
       "<sqlite3.Cursor at 0x284145514c0>"
      ]
     },
     "execution_count": 10,
     "metadata": {},
     "output_type": "execute_result"
    }
   ],
   "source": [
    "cur.execute(insert1)"
   ]
  },
  {
   "cell_type": "code",
   "execution_count": 11,
   "id": "35622e56",
   "metadata": {},
   "outputs": [],
   "source": [
    "insert2=\"insert into stud_details values(101,'Surat',9876554651),(102,'Bardoli',9876764321),(103,'Baben',9347754121),(104,'Mumbai',8764450921),(105,'Vadodara',9123552341),(106,'Surat',9876556321),(107,'Bardoli',76543090921),(108,'Mumbai',7654321098),(109,'Vadodara',9012308080),(110,'Bardoli',6543202376)\""
   ]
  },
  {
   "cell_type": "code",
   "execution_count": 12,
   "id": "5895b59a",
   "metadata": {},
   "outputs": [
    {
     "data": {
      "text/plain": [
       "<sqlite3.Cursor at 0x284145514c0>"
      ]
     },
     "execution_count": 12,
     "metadata": {},
     "output_type": "execute_result"
    }
   ],
   "source": [
    "cur.execute(insert2)"
   ]
  },
  {
   "cell_type": "code",
   "execution_count": 13,
   "id": "3133d29c",
   "metadata": {},
   "outputs": [],
   "source": [
    "con.commit()"
   ]
  },
  {
   "cell_type": "code",
   "execution_count": 14,
   "id": "04070034",
   "metadata": {},
   "outputs": [],
   "source": [
    "sel1=\"select * from stud_details where city='Surat' \""
   ]
  },
  {
   "cell_type": "code",
   "execution_count": 15,
   "id": "41f73106",
   "metadata": {},
   "outputs": [
    {
     "data": {
      "text/plain": [
       "<sqlite3.Cursor at 0x284145514c0>"
      ]
     },
     "execution_count": 15,
     "metadata": {},
     "output_type": "execute_result"
    }
   ],
   "source": [
    "cur.execute(sel1)"
   ]
  },
  {
   "cell_type": "code",
   "execution_count": 16,
   "id": "b4c552d6",
   "metadata": {},
   "outputs": [
    {
     "data": {
      "text/plain": [
       "[(101, 'Surat', 9876554651), (106, 'Surat', 9876556321)]"
      ]
     },
     "execution_count": 16,
     "metadata": {},
     "output_type": "execute_result"
    }
   ],
   "source": [
    "cur.fetchall()"
   ]
  },
  {
   "cell_type": "code",
   "execution_count": 17,
   "id": "e110a3a5",
   "metadata": {},
   "outputs": [
    {
     "data": {
      "text/plain": [
       "[(101, 'Surat', 9876554651), (106, 'Surat', 9876556321)]"
      ]
     },
     "execution_count": 17,
     "metadata": {},
     "output_type": "execute_result"
    }
   ],
   "source": [
    "[(101, 'Surat', 9876554651), (106, 'Surat', 9876556321)]"
   ]
  },
  {
   "cell_type": "code",
   "execution_count": 18,
   "id": "3cbc96fa",
   "metadata": {},
   "outputs": [],
   "source": [
    "con.commit()"
   ]
  },
  {
   "cell_type": "code",
   "execution_count": 19,
   "id": "74fd69ee",
   "metadata": {},
   "outputs": [],
   "source": [
    "sel2=\"select * from stud_details where city LIKE 'B%' \""
   ]
  },
  {
   "cell_type": "code",
   "execution_count": 20,
   "id": "0fa99f78",
   "metadata": {},
   "outputs": [
    {
     "data": {
      "text/plain": [
       "<sqlite3.Cursor at 0x284145514c0>"
      ]
     },
     "execution_count": 20,
     "metadata": {},
     "output_type": "execute_result"
    }
   ],
   "source": [
    "cur.execute(sel2)"
   ]
  },
  {
   "cell_type": "code",
   "execution_count": 21,
   "id": "22022906",
   "metadata": {},
   "outputs": [
    {
     "data": {
      "text/plain": [
       "[(102, 'Bardoli', 9876764321),\n",
       " (103, 'Baben', 9347754121),\n",
       " (107, 'Bardoli', 76543090921),\n",
       " (110, 'Bardoli', 6543202376)]"
      ]
     },
     "execution_count": 21,
     "metadata": {},
     "output_type": "execute_result"
    }
   ],
   "source": [
    "cur.fetchall()"
   ]
  },
  {
   "cell_type": "code",
   "execution_count": 23,
   "id": "a95ee3c9",
   "metadata": {},
   "outputs": [],
   "source": [
    "con.commit()"
   ]
  },
  {
   "cell_type": "code",
   "execution_count": 24,
   "id": "a720e516",
   "metadata": {},
   "outputs": [],
   "source": [
    "upd=\"update stud_details set mobno=9090808070 where city='Surat' and sid=101 \""
   ]
  },
  {
   "cell_type": "code",
   "execution_count": 25,
   "id": "d559d3cb",
   "metadata": {},
   "outputs": [
    {
     "data": {
      "text/plain": [
       "<sqlite3.Cursor at 0x284145514c0>"
      ]
     },
     "execution_count": 25,
     "metadata": {},
     "output_type": "execute_result"
    }
   ],
   "source": [
    "cur.execute(upd)"
   ]
  },
  {
   "cell_type": "code",
   "execution_count": 26,
   "id": "e58e6a77",
   "metadata": {},
   "outputs": [],
   "source": [
    "con.commit()"
   ]
  },
  {
   "cell_type": "code",
   "execution_count": 27,
   "id": "f11033eb",
   "metadata": {},
   "outputs": [],
   "source": [
    "con.close()"
   ]
  },
  {
   "cell_type": "code",
   "execution_count": null,
   "id": "8798c9fe",
   "metadata": {},
   "outputs": [],
   "source": []
  }
 ],
 "metadata": {
  "kernelspec": {
   "display_name": "Python 3 (ipykernel)",
   "language": "python",
   "name": "python3"
  },
  "language_info": {
   "codemirror_mode": {
    "name": "ipython",
    "version": 3
   },
   "file_extension": ".py",
   "mimetype": "text/x-python",
   "name": "python",
   "nbconvert_exporter": "python",
   "pygments_lexer": "ipython3",
   "version": "3.11.4"
  }
 },
 "nbformat": 4,
 "nbformat_minor": 5
}
